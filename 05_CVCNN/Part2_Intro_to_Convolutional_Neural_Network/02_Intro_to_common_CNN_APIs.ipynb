{
  "cells": [
    {
      "cell_type": "markdown",
      "id": "f901de8a",
      "metadata": {
        "tags": [],
        "id": "f901de8a"
      },
      "source": [
        "# **Intro to common CNN APIs**\n",
        "此份程式碼會介紹在 CNN model 當中常使用的 Layers。"
      ]
    },
    {
      "cell_type": "markdown",
      "id": "3c68f4a3",
      "metadata": {
        "tags": [],
        "id": "3c68f4a3"
      },
      "source": [
        "## 本章節大綱\n",
        "* [Conv2D( filters, kernel_size, strides, use_bias)](#Conv2D)\n",
        "  * [use_bias](#use-bias)\n",
        "  * [Multi-Channels](#Multi-Channels-with-1-Filter)\n",
        "  * [filters](#filters)\n",
        "  * [kernel_size](#kernel-_-size)\n",
        "  * [strides](#strides)\n",
        "* [Flatten](#Flatten)\n",
        "* [Padding](#Padding)\n",
        "* [Pooling](#Pooling)"
      ]
    },
    {
      "cell_type": "code",
      "execution_count": 39,
      "id": "80560b10",
      "metadata": {
        "colab": {
          "base_uri": "https://localhost:8080/"
        },
        "id": "80560b10",
        "outputId": "9120ee96-c2d3-4234-8375-5f0d8fdf96fa"
      },
      "outputs": [
        {
          "output_type": "stream",
          "name": "stdout",
          "text": [
            "replace data/conv2d_1channel_input.npy? [y]es, [n]o, [A]ll, [N]one, [r]ename: All\n"
          ]
        }
      ],
      "source": [
        "# 下載課程所需檔案\n",
        "!wget -q \"https://github.com/TA-aiacademy/course_3.0/releases/download/CVCNN_Data/cnn_part2_data.zip\"\n",
        "!unzip -q cnn_part2_data.zip"
      ]
    },
    {
      "cell_type": "code",
      "execution_count": 2,
      "id": "aa8a9dfa",
      "metadata": {
        "id": "aa8a9dfa"
      },
      "outputs": [],
      "source": [
        "import numpy as np\n",
        "import tensorflow as tf\n",
        "from tensorflow.keras.layers import Conv2D"
      ]
    },
    {
      "cell_type": "code",
      "execution_count": 3,
      "id": "c0d8b5df",
      "metadata": {
        "id": "c0d8b5df"
      },
      "outputs": [],
      "source": [
        "input_img = np.array([[0, 0, 0, 0, 0, 0],\n",
        "                      [0, 0, 0, 1, 1, 0],\n",
        "                      [0, 1, 1, 1, 1, 0],\n",
        "                      [0, 0, 1, 0, 1, 0],\n",
        "                      [0, 0, 0, 1, 0, 0],\n",
        "                      [0, 0, 0, 0, 0, 0]], dtype='float32')"
      ]
    },
    {
      "cell_type": "code",
      "execution_count": 4,
      "id": "d63d7d65",
      "metadata": {
        "colab": {
          "base_uri": "https://localhost:8080/"
        },
        "id": "d63d7d65",
        "outputId": "8e359d5b-61fb-478b-97bf-7dcefcaf149b"
      },
      "outputs": [
        {
          "output_type": "execute_result",
          "data": {
            "text/plain": [
              "(6, 6)"
            ]
          },
          "metadata": {},
          "execution_count": 4
        }
      ],
      "source": [
        "input_img.shape"
      ]
    },
    {
      "cell_type": "code",
      "execution_count": 5,
      "id": "b77681b2",
      "metadata": {
        "colab": {
          "base_uri": "https://localhost:8080/"
        },
        "id": "b77681b2",
        "outputId": "1434e703-9c95-4361-ae8c-63689d09e5d9"
      },
      "outputs": [
        {
          "output_type": "stream",
          "name": "stdout",
          "text": [
            "(1, 6, 6, 1)\n",
            "(batch_size, height, width, channel)\n"
          ]
        }
      ],
      "source": [
        "input_img = input_img[np.newaxis, ..., np.newaxis]\n",
        "print(input_img.shape)\n",
        "print(\"(batch_size, height, width, channel)\")"
      ]
    },
    {
      "cell_type": "markdown",
      "id": "72451b40",
      "metadata": {
        "id": "72451b40"
      },
      "source": [
        "* ## Conv2D\n",
        "![](https://i.imgur.com/ziscEhS.gif)"
      ]
    },
    {
      "cell_type": "code",
      "execution_count": 12,
      "id": "68d353c1",
      "metadata": {
        "id": "68d353c1"
      },
      "outputs": [],
      "source": [
        "def kernel_init(shape, dtype=None):\n",
        "    filter_init = np.array([[1, 0, 0], [0, 1, 0], [0, 0, 1]], dtype='float32')\n",
        "    # height, width, channel, filters\n",
        "    filter_init = filter_init.reshape((3, 3, 1, 1))\n",
        "    return tf.Variable(filter_init)"
      ]
    },
    {
      "cell_type": "code",
      "execution_count": 13,
      "id": "ca7bb0cf",
      "metadata": {
        "id": "ca7bb0cf"
      },
      "outputs": [],
      "source": [
        "conv_result = Conv2D(filters=1, kernel_size=(3, 3), strides=(1, 1),\n",
        "                     kernel_initializer=kernel_init)(input_img)"
      ]
    },
    {
      "cell_type": "code",
      "execution_count": 14,
      "id": "0ef44465",
      "metadata": {
        "id": "0ef44465"
      },
      "outputs": [],
      "source": [
        "conv_result = conv_result.numpy()"
      ]
    },
    {
      "cell_type": "code",
      "execution_count": null,
      "id": "b9260331",
      "metadata": {
        "id": "b9260331"
      },
      "outputs": [],
      "source": [
        "print(conv_result.shape)\n",
        "print(conv_result)\n",
        "a = conv_result.squeeze()\n",
        "print(conv_result.squeeze())\n",
        "print(conv_result.shape)\n",
        "print(a)\n",
        "print(a.shape)"
      ]
    },
    {
      "cell_type": "markdown",
      "id": "5cb815bc",
      "metadata": {
        "id": "5cb815bc"
      },
      "source": [
        "[(back...)](#Convolution2D)"
      ]
    },
    {
      "cell_type": "markdown",
      "id": "2835a71c",
      "metadata": {
        "id": "2835a71c"
      },
      "source": [
        "* ## use bias\n",
        "![](https://i.imgur.com/3x4wMGO.gif)"
      ]
    },
    {
      "cell_type": "code",
      "execution_count": 19,
      "id": "1016c714",
      "metadata": {
        "id": "1016c714"
      },
      "outputs": [],
      "source": [
        "bias_result = Conv2D(filters=1, kernel_size=(3, 3), strides=(1, 1),\n",
        "                     kernel_initializer=kernel_init,\n",
        "                     use_bias=True,\n",
        "                     bias_initializer='ones')(input_img)\n",
        "\n",
        "bias_result = bias_result.numpy()"
      ]
    },
    {
      "cell_type": "code",
      "execution_count": 20,
      "id": "9ec6d7f5",
      "metadata": {
        "colab": {
          "base_uri": "https://localhost:8080/"
        },
        "id": "9ec6d7f5",
        "outputId": "7422a119-2191-4495-d787-810a898ef695"
      },
      "outputs": [
        {
          "output_type": "stream",
          "name": "stdout",
          "text": [
            "(1, 4, 4, 1)\n",
            "[[2. 2. 3. 2.]\n",
            " [3. 2. 3. 3.]\n",
            " [1. 4. 2. 3.]\n",
            " [1. 1. 3. 1.]]\n"
          ]
        }
      ],
      "source": [
        "print(bias_result.shape)\n",
        "print(bias_result.squeeze())"
      ]
    },
    {
      "cell_type": "markdown",
      "id": "b3c1ad5e",
      "metadata": {
        "id": "b3c1ad5e"
      },
      "source": [
        "[(back...)](#Convolution2D)"
      ]
    },
    {
      "cell_type": "markdown",
      "id": "f310c127",
      "metadata": {
        "id": "f310c127"
      },
      "source": [
        "* ## Multi Channels with 1 Filter\n",
        "![](https://i.imgur.com/NCivRaq.gif)\n",
        "![](https://i.imgur.com/QEjI0jq.png)"
      ]
    },
    {
      "cell_type": "code",
      "execution_count": 41,
      "id": "8c27e1be",
      "metadata": {
        "colab": {
          "base_uri": "https://localhost:8080/"
        },
        "id": "8c27e1be",
        "outputId": "9e335f64-8f75-45eb-a83a-c67bdf537a4d"
      },
      "outputs": [
        {
          "output_type": "stream",
          "name": "stdout",
          "text": [
            "(6, 6, 3)\n",
            "int64\n"
          ]
        }
      ],
      "source": [
        "input_img = np.load(\"./data/conv2d_multichannel_input.npy\")\n",
        "print(input_img.shape)\n",
        "print(input_img.dtype)"
      ]
    },
    {
      "cell_type": "code",
      "source": [
        "a = np.array([[1,0,0],\n",
        "        [0,1,0],\n",
        "        [0,1,1] ])\n",
        "print(a.shape)\n",
        "print(a)\n",
        "\n",
        "a1 = a[np.newaxis,...,np.newaxis]\n",
        "print(a1.shape)\n",
        "print(a1)\n",
        "print(a1.squeeze())\n",
        "\n"
      ],
      "metadata": {
        "id": "Wnczm4iuUh10",
        "outputId": "f012903f-6b57-4d14-9486-6b24ebe9c364",
        "colab": {
          "base_uri": "https://localhost:8080/"
        }
      },
      "id": "Wnczm4iuUh10",
      "execution_count": 33,
      "outputs": [
        {
          "output_type": "stream",
          "name": "stdout",
          "text": [
            "(3, 3)\n",
            "[[1 0 0]\n",
            " [0 1 0]\n",
            " [0 1 1]]\n",
            "(1, 3, 3, 1)\n",
            "[[[[1]\n",
            "   [0]\n",
            "   [0]]\n",
            "\n",
            "  [[0]\n",
            "   [1]\n",
            "   [0]]\n",
            "\n",
            "  [[0]\n",
            "   [1]\n",
            "   [1]]]]\n",
            "[[1 0 0]\n",
            " [0 1 0]\n",
            " [0 1 1]]\n"
          ]
        }
      ]
    },
    {
      "cell_type": "code",
      "execution_count": 42,
      "id": "244d32be",
      "metadata": {
        "colab": {
          "base_uri": "https://localhost:8080/"
        },
        "id": "244d32be",
        "outputId": "95fa4c1b-7067-475b-d876-5f216463f163"
      },
      "outputs": [
        {
          "output_type": "stream",
          "name": "stdout",
          "text": [
            "(1, 6, 6, 3)\n",
            "(Batch_size, Height, Width, Channel)\n"
          ]
        }
      ],
      "source": [
        "input_img = input_img[np.newaxis, ...] #在前面擴充一個維度\n",
        "print(input_img.shape)\n",
        "print(\"(Batch_size, Height, Width, Channel)\")"
      ]
    },
    {
      "cell_type": "code",
      "execution_count": 43,
      "id": "b4d47433",
      "metadata": {
        "colab": {
          "base_uri": "https://localhost:8080/"
        },
        "id": "b4d47433",
        "outputId": "f047fd40-6a09-4b36-d56c-2805acc192e4"
      },
      "outputs": [
        {
          "output_type": "stream",
          "name": "stdout",
          "text": [
            "float32\n"
          ]
        }
      ],
      "source": [
        "input_img = input_img.astype(\"float32\")\n",
        "print(input_img.dtype)"
      ]
    },
    {
      "cell_type": "code",
      "execution_count": 44,
      "id": "a2a196ac",
      "metadata": {
        "colab": {
          "base_uri": "https://localhost:8080/"
        },
        "id": "a2a196ac",
        "outputId": "e4fe1dd6-9a6b-4b62-e745-5751feccbf44"
      },
      "outputs": [
        {
          "output_type": "stream",
          "name": "stdout",
          "text": [
            "(3, 3, 3, 1)\n",
            "(Height, Width, Channel, Num of Filters)\n"
          ]
        }
      ],
      "source": [
        "filter_init = np.load(\"./data/conv2d_multichannelfilter.npy\")\n",
        "print(filter_init.shape)\n",
        "print(\"(Height, Width, Channel, Num of Filters)\")"
      ]
    },
    {
      "cell_type": "code",
      "execution_count": 45,
      "id": "46366f3c",
      "metadata": {
        "id": "46366f3c"
      },
      "outputs": [],
      "source": [
        "kernel_init = tf.constant_initializer(filter_init)"
      ]
    },
    {
      "cell_type": "code",
      "execution_count": 46,
      "id": "97b20b9c",
      "metadata": {
        "id": "97b20b9c"
      },
      "outputs": [],
      "source": [
        "multichannel = Conv2D(filters=1, kernel_size=(3, 3), strides=(1, 1),\n",
        "                      kernel_initializer=kernel_init)(input_img)\n",
        "\n",
        "multichannel = multichannel.numpy()"
      ]
    },
    {
      "cell_type": "code",
      "execution_count": 47,
      "id": "b35339aa",
      "metadata": {
        "colab": {
          "base_uri": "https://localhost:8080/"
        },
        "id": "b35339aa",
        "outputId": "c99bf12d-c6b0-4679-e225-bdc3c63e9e6c"
      },
      "outputs": [
        {
          "output_type": "stream",
          "name": "stdout",
          "text": [
            "(1, 4, 4, 1)\n",
            "[[2. 3. 5. 3.]\n",
            " [5. 3. 5. 5.]\n",
            " [3. 4. 5. 6.]\n",
            " [1. 2. 5. 2.]]\n"
          ]
        }
      ],
      "source": [
        "print(multichannel.shape)\n",
        "print(multichannel.squeeze())"
      ]
    },
    {
      "cell_type": "markdown",
      "id": "fe90f00d",
      "metadata": {
        "id": "fe90f00d"
      },
      "source": [
        "[(back...)](#Convolution2D)"
      ]
    },
    {
      "cell_type": "markdown",
      "id": "0972b87a",
      "metadata": {
        "id": "0972b87a"
      },
      "source": [
        "* ## filters\n",
        "![](https://i.imgur.com/NCivRaq.gif)"
      ]
    },
    {
      "cell_type": "code",
      "execution_count": 48,
      "id": "8d4e324c",
      "metadata": {
        "colab": {
          "base_uri": "https://localhost:8080/"
        },
        "id": "8d4e324c",
        "outputId": "b07a3cb2-1415-4f80-94e9-58887010fc91"
      },
      "outputs": [
        {
          "output_type": "stream",
          "name": "stdout",
          "text": [
            "(3, 3, 3, 8)\n"
          ]
        }
      ],
      "source": [
        "multi_filter_init = np.zeros((3, 3, 3, 8))\n",
        "for i in range(8):\n",
        "    multi_filter_init[:, :, :, i] = filter_init.squeeze()\n",
        "multi_filter_init = multi_filter_init.astype('float32')\n",
        "\n",
        "print(multi_filter_init.shape)"
      ]
    },
    {
      "cell_type": "code",
      "execution_count": 49,
      "id": "241eef6c",
      "metadata": {
        "id": "241eef6c"
      },
      "outputs": [],
      "source": [
        "kernel_init = tf.constant_initializer(multi_filter_init)"
      ]
    },
    {
      "cell_type": "code",
      "execution_count": 50,
      "id": "7a03eca4",
      "metadata": {
        "id": "7a03eca4"
      },
      "outputs": [],
      "source": [
        "multifilter = Conv2D(8, (3, 3), strides=(1, 1),\n",
        "                     kernel_initializer=kernel_init)(input_img)\n",
        "\n",
        "multifilter = multifilter.numpy()"
      ]
    },
    {
      "cell_type": "code",
      "execution_count": 51,
      "id": "e6af04c5",
      "metadata": {
        "colab": {
          "base_uri": "https://localhost:8080/"
        },
        "id": "e6af04c5",
        "outputId": "9ebf5097-d673-4299-cc37-b7c008dba7ff"
      },
      "outputs": [
        {
          "output_type": "stream",
          "name": "stdout",
          "text": [
            "(1, 4, 4, 8)\n",
            "[[[2. 2. 2. 2. 2. 2. 2. 2.]\n",
            "  [3. 3. 3. 3. 3. 3. 3. 3.]\n",
            "  [5. 5. 5. 5. 5. 5. 5. 5.]\n",
            "  [3. 3. 3. 3. 3. 3. 3. 3.]]\n",
            "\n",
            " [[5. 5. 5. 5. 5. 5. 5. 5.]\n",
            "  [3. 3. 3. 3. 3. 3. 3. 3.]\n",
            "  [5. 5. 5. 5. 5. 5. 5. 5.]\n",
            "  [5. 5. 5. 5. 5. 5. 5. 5.]]\n",
            "\n",
            " [[3. 3. 3. 3. 3. 3. 3. 3.]\n",
            "  [4. 4. 4. 4. 4. 4. 4. 4.]\n",
            "  [5. 5. 5. 5. 5. 5. 5. 5.]\n",
            "  [6. 6. 6. 6. 6. 6. 6. 6.]]\n",
            "\n",
            " [[1. 1. 1. 1. 1. 1. 1. 1.]\n",
            "  [2. 2. 2. 2. 2. 2. 2. 2.]\n",
            "  [5. 5. 5. 5. 5. 5. 5. 5.]\n",
            "  [2. 2. 2. 2. 2. 2. 2. 2.]]]\n"
          ]
        }
      ],
      "source": [
        "print(multifilter.shape)\n",
        "print(multifilter.squeeze())"
      ]
    },
    {
      "cell_type": "markdown",
      "id": "f352ce5e",
      "metadata": {
        "id": "f352ce5e"
      },
      "source": [
        "[(back...)](#Convolution2D)"
      ]
    },
    {
      "cell_type": "markdown",
      "id": "59caf228",
      "metadata": {
        "id": "59caf228"
      },
      "source": [
        "* ## strides\n",
        "![](https://i.imgur.com/8XWHNqI.gif)"
      ]
    },
    {
      "cell_type": "code",
      "execution_count": 52,
      "id": "58221fbd",
      "metadata": {
        "id": "58221fbd"
      },
      "outputs": [],
      "source": [
        "input_img = np.load(\"./data/conv2d_1channel_input.npy\")"
      ]
    },
    {
      "cell_type": "code",
      "execution_count": 53,
      "id": "f8bd52a9",
      "metadata": {
        "id": "f8bd52a9"
      },
      "outputs": [],
      "source": [
        "filter_init = np.array([[1, 0, 0], [0, 1, 0], [0, 0, 1]], dtype='float32')\n",
        "filter_init = filter_init.reshape((3, 3, 1, 1))\n",
        "kernel_init = tf.constant_initializer(filter_init)"
      ]
    },
    {
      "cell_type": "code",
      "execution_count": 54,
      "id": "b6b73eaf",
      "metadata": {
        "id": "b6b73eaf"
      },
      "outputs": [],
      "source": [
        "stride_result = Conv2D(1, (3, 3), strides=(2, 2),\n",
        "                       kernel_initializer=kernel_init)(input_img)\n",
        "\n",
        "stride_result = stride_result.numpy()"
      ]
    },
    {
      "cell_type": "code",
      "execution_count": 55,
      "id": "76bf1900",
      "metadata": {
        "colab": {
          "base_uri": "https://localhost:8080/"
        },
        "id": "76bf1900",
        "outputId": "6289279d-01db-4344-cdf3-1c7204603add"
      },
      "outputs": [
        {
          "output_type": "stream",
          "name": "stdout",
          "text": [
            "(1, 2, 2, 1)\n",
            "[[1. 2.]\n",
            " [0. 1.]]\n"
          ]
        }
      ],
      "source": [
        "print(stride_result.shape)\n",
        "print(stride_result.squeeze())"
      ]
    },
    {
      "cell_type": "code",
      "source": [
        "stride_result = Conv2D(1, (3, 3), strides=(3, 3),\n",
        "                       kernel_initializer=kernel_init)(input_img)\n",
        "\n",
        "stride_result = stride_result.numpy()\n",
        "print(stride_result.shape)\n",
        "print(stride_result.squeeze())"
      ],
      "metadata": {
        "id": "uwUc-ObJa4W2",
        "outputId": "90b2bdfc-e7a9-4014-881c-c1f6b6c88f46",
        "colab": {
          "base_uri": "https://localhost:8080/"
        }
      },
      "id": "uwUc-ObJa4W2",
      "execution_count": 81,
      "outputs": [
        {
          "output_type": "stream",
          "name": "stdout",
          "text": [
            "(1, 2, 2, 1)\n",
            "[[1. 1.]\n",
            " [0. 0.]]\n"
          ]
        }
      ]
    },
    {
      "cell_type": "markdown",
      "id": "b2fb2f7a",
      "metadata": {
        "id": "b2fb2f7a"
      },
      "source": [
        "![](https://i.imgur.com/2XmNAct.jpg)"
      ]
    },
    {
      "cell_type": "markdown",
      "id": "53bb569f",
      "metadata": {
        "id": "53bb569f"
      },
      "source": [
        "# Flatten\n",
        "\n",
        "* [Way1-Reshape](#Way1---Reshape)\n",
        "* [Way2-Flatten](#Way2---Flatten)"
      ]
    },
    {
      "cell_type": "code",
      "execution_count": 56,
      "id": "2b1e7030",
      "metadata": {
        "id": "2b1e7030"
      },
      "outputs": [],
      "source": [
        "import numpy as np\n",
        "from tensorflow.keras.layers import Flatten, Reshape"
      ]
    },
    {
      "cell_type": "code",
      "execution_count": 82,
      "id": "8452c292",
      "metadata": {
        "id": "8452c292"
      },
      "outputs": [],
      "source": [
        "input_img1 = np.array([[0, 1, 2, 3],\n",
        "                       [4, 5, 6, 7],\n",
        "                       [8, 9, 10, 11],\n",
        "                       [12, 13, 14, 15]], dtype='float32')\n",
        "input_img1 = input_img1[np.newaxis, ..., np.newaxis] #前後各增加一個維度"
      ]
    },
    {
      "cell_type": "markdown",
      "id": "4d98b7a4",
      "metadata": {
        "id": "4d98b7a4"
      },
      "source": [
        "* ## Way1 - Reshape"
      ]
    },
    {
      "cell_type": "code",
      "source": [
        "print(input_img1.shape)\n",
        "a = Reshape(target_shape=(-1,))(input_img1) # -1 表示把所有的維度相乘\n",
        "print(a.shape)\n",
        "print(a)"
      ],
      "metadata": {
        "id": "EL9n9JuZXkxo",
        "outputId": "6cce10ca-bff2-4e3b-b985-e9d4856fc114",
        "colab": {
          "base_uri": "https://localhost:8080/"
        }
      },
      "id": "EL9n9JuZXkxo",
      "execution_count": 84,
      "outputs": [
        {
          "output_type": "stream",
          "name": "stdout",
          "text": [
            "(1, 4, 4, 1)\n",
            "(1, 16)\n",
            "tf.Tensor([[ 0.  1.  2.  3.  4.  5.  6.  7.  8.  9. 10. 11. 12. 13. 14. 15.]], shape=(1, 16), dtype=float32)\n"
          ]
        }
      ]
    },
    {
      "cell_type": "code",
      "execution_count": 85,
      "id": "413e8f54",
      "metadata": {
        "id": "413e8f54"
      },
      "outputs": [],
      "source": [
        "reshape_result = Reshape(target_shape=(-1,))(input_img1)\n",
        "reshape_result = reshape_result.numpy()"
      ]
    },
    {
      "cell_type": "code",
      "execution_count": 59,
      "id": "2af18f01",
      "metadata": {
        "colab": {
          "base_uri": "https://localhost:8080/"
        },
        "id": "2af18f01",
        "outputId": "9ea5046c-4077-40e9-cf85-976a7191c399"
      },
      "outputs": [
        {
          "output_type": "stream",
          "name": "stdout",
          "text": [
            "(1, 4, 4, 1)\n",
            "(1, 16)\n",
            "[[ 0.  1.  2.  3.  4.  5.  6.  7.  8.  9. 10. 11. 12. 13. 14. 15.]]\n"
          ]
        }
      ],
      "source": [
        "print(input_img1.shape)\n",
        "print(reshape_result.shape)\n",
        "print(reshape_result)"
      ]
    },
    {
      "cell_type": "code",
      "execution_count": 73,
      "id": "2db6f0b5",
      "metadata": {
        "colab": {
          "base_uri": "https://localhost:8080/"
        },
        "id": "2db6f0b5",
        "outputId": "45e463db-2c99-4e26-9375-4e0be898d2b6"
      },
      "outputs": [
        {
          "output_type": "stream",
          "name": "stdout",
          "text": [
            "(1, 4, 4, 8)\n"
          ]
        }
      ],
      "source": [
        "input_img2 = input_img1.copy()\n",
        "for _ in range(3):\n",
        "    input_img2 = np.concatenate([input_img2, input_img2], -1)\n",
        "print(input_img2.shape)"
      ]
    },
    {
      "cell_type": "code",
      "execution_count": 74,
      "id": "b0d62f10",
      "metadata": {
        "colab": {
          "base_uri": "https://localhost:8080/"
        },
        "id": "b0d62f10",
        "outputId": "5f9fa2e1-de4c-465a-e216-07095bb7d81f"
      },
      "outputs": [
        {
          "output_type": "stream",
          "name": "stdout",
          "text": [
            "(1, 128)\n",
            "[[ 0.  0.  0.  0.  0.  0.  0.  0.  1.  1.  1.  1.  1.  1.  1.  1.  2.  2.\n",
            "   2.  2.  2.  2.  2.  2.  3.  3.  3.  3.  3.  3.  3.  3.  4.  4.  4.  4.\n",
            "   4.  4.  4.  4.  5.  5.  5.  5.  5.  5.  5.  5.  6.  6.  6.  6.  6.  6.\n",
            "   6.  6.  7.  7.  7.  7.  7.  7.  7.  7.  8.  8.  8.  8.  8.  8.  8.  8.\n",
            "   9.  9.  9.  9.  9.  9.  9.  9. 10. 10. 10. 10. 10. 10. 10. 10. 11. 11.\n",
            "  11. 11. 11. 11. 11. 11. 12. 12. 12. 12. 12. 12. 12. 12. 13. 13. 13. 13.\n",
            "  13. 13. 13. 13. 14. 14. 14. 14. 14. 14. 14. 14. 15. 15. 15. 15. 15. 15.\n",
            "  15. 15.]]\n"
          ]
        }
      ],
      "source": [
        "reshape_result = Reshape(target_shape=(-1,))(input_img2)\n",
        "reshape_result = reshape_result.numpy()\n",
        "print(reshape_result.shape)\n",
        "print(reshape_result)"
      ]
    },
    {
      "cell_type": "markdown",
      "id": "e8940922",
      "metadata": {
        "id": "e8940922"
      },
      "source": [
        "[(back...)](#Flatten)"
      ]
    },
    {
      "cell_type": "markdown",
      "id": "22fab2e5",
      "metadata": {
        "id": "22fab2e5"
      },
      "source": [
        "* ## Way2 - Flatten"
      ]
    },
    {
      "cell_type": "markdown",
      "id": "b2e4351c",
      "metadata": {
        "id": "b2e4351c"
      },
      "source": [
        "![](https://i.imgur.com/MvwO4a0.gif)"
      ]
    },
    {
      "cell_type": "code",
      "execution_count": 75,
      "id": "6b6ff0d7",
      "metadata": {
        "id": "6b6ff0d7"
      },
      "outputs": [],
      "source": [
        "flatten_result = Flatten()(input_img1)\n",
        "flatten_result = flatten_result.numpy()"
      ]
    },
    {
      "cell_type": "code",
      "execution_count": 76,
      "id": "453d3c9b",
      "metadata": {
        "colab": {
          "base_uri": "https://localhost:8080/"
        },
        "id": "453d3c9b",
        "outputId": "6cb79bfa-c99b-44ad-a4ad-8f0b1e4d45b0"
      },
      "outputs": [
        {
          "output_type": "stream",
          "name": "stdout",
          "text": [
            "(1, 4, 4, 1)\n",
            "(1, 16)\n",
            "[[ 0.  1.  2.  3.  4.  5.  6.  7.  8.  9. 10. 11. 12. 13. 14. 15.]]\n"
          ]
        }
      ],
      "source": [
        "print(input_img1.shape)\n",
        "print(flatten_result.shape)\n",
        "print(flatten_result)"
      ]
    },
    {
      "cell_type": "markdown",
      "id": "77cbaa74",
      "metadata": {
        "id": "77cbaa74"
      },
      "source": [
        "![](https://i.imgur.com/FDh4d0L.gif)"
      ]
    },
    {
      "cell_type": "code",
      "execution_count": 77,
      "id": "1777fbc9",
      "metadata": {
        "id": "1777fbc9"
      },
      "outputs": [],
      "source": [
        "flatten_result = Flatten()(input_img2)\n",
        "flatten_result = flatten_result.numpy()"
      ]
    },
    {
      "cell_type": "code",
      "execution_count": 86,
      "id": "1e97cf42",
      "metadata": {
        "colab": {
          "base_uri": "https://localhost:8080/"
        },
        "id": "1e97cf42",
        "outputId": "e5ff6eb7-06c5-4fdf-917a-998437a7df4d"
      },
      "outputs": [
        {
          "output_type": "stream",
          "name": "stdout",
          "text": [
            "(1, 128)\n",
            "[[ 0.  0.  0.  0.  0.  0.  0.  0.  1.  1.  1.  1.  1.  1.  1.  1.  2.  2.\n",
            "   2.  2.  2.  2.  2.  2.  3.  3.  3.  3.  3.  3.  3.  3.  4.  4.  4.  4.\n",
            "   4.  4.  4.  4.  5.  5.  5.  5.  5.  5.  5.  5.  6.  6.  6.  6.  6.  6.\n",
            "   6.  6.  7.  7.  7.  7.  7.  7.  7.  7.  8.  8.  8.  8.  8.  8.  8.  8.\n",
            "   9.  9.  9.  9.  9.  9.  9.  9. 10. 10. 10. 10. 10. 10. 10. 10. 11. 11.\n",
            "  11. 11. 11. 11. 11. 11. 12. 12. 12. 12. 12. 12. 12. 12. 13. 13. 13. 13.\n",
            "  13. 13. 13. 13. 14. 14. 14. 14. 14. 14. 14. 14. 15. 15. 15. 15. 15. 15.\n",
            "  15. 15.]]\n"
          ]
        }
      ],
      "source": [
        "print(flatten_result.shape)\n",
        "print(flatten_result)"
      ]
    },
    {
      "cell_type": "markdown",
      "id": "9858fdcd",
      "metadata": {
        "id": "9858fdcd"
      },
      "source": [
        "[(back...)](#Flatten)"
      ]
    },
    {
      "cell_type": "markdown",
      "id": "006f9bee",
      "metadata": {
        "id": "006f9bee"
      },
      "source": [
        "# Padding\n",
        "\n",
        "* [padding='VALID'](#padding='VALID')\n",
        "* [padding='SAME'](#padding='SAME')\n",
        "* [ZeroPadding](#ZeroPadding)"
      ]
    },
    {
      "cell_type": "code",
      "execution_count": 87,
      "id": "314c338d",
      "metadata": {
        "id": "314c338d"
      },
      "outputs": [],
      "source": [
        "import numpy as np\n",
        "import tensorflow as tf\n",
        "from tensorflow.keras.layers import Conv2D, ZeroPadding2D"
      ]
    },
    {
      "cell_type": "code",
      "execution_count": 89,
      "id": "c6b923f7",
      "metadata": {
        "colab": {
          "base_uri": "https://localhost:8080/"
        },
        "id": "c6b923f7",
        "outputId": "14ab17a6-0d6f-4836-f151-ecf6ed3d424f"
      },
      "outputs": [
        {
          "output_type": "stream",
          "name": "stdout",
          "text": [
            "(1, 6, 6, 1)\n"
          ]
        }
      ],
      "source": [
        "input_img = np.array([[0, 0, 0, 0, 0, 0],\n",
        "                      [0, 0, 0, 1, 1, 0],\n",
        "                      [0, 1, 1, 1, 1, 0],\n",
        "                      [0, 0, 1, 0, 1, 0],\n",
        "                      [0, 0, 0, 1, 0, 0],\n",
        "                      [0, 0, 0, 0, 0, 0]], dtype='float32')\n",
        "input_img = input_img[np.newaxis, ..., np.newaxis]\n",
        "print(input_img.shape)"
      ]
    },
    {
      "cell_type": "code",
      "execution_count": 90,
      "id": "822f3f54",
      "metadata": {
        "id": "822f3f54"
      },
      "outputs": [],
      "source": [
        "def kernel_init(shape, dtype=None):\n",
        "    filter_init = np.array([[1, 0, 0], [0, 1, 0], [0, 0, 1]])\n",
        "    filter_init = filter_init.reshape((3, 3, 1, 1))\n",
        "    return tf.Variable(filter_init, dtype=tf.float32)"
      ]
    },
    {
      "cell_type": "markdown",
      "id": "a0cee328",
      "metadata": {
        "id": "a0cee328"
      },
      "source": [
        "* ## padding='VALID'"
      ]
    },
    {
      "cell_type": "code",
      "execution_count": 91,
      "id": "6d300c4f",
      "metadata": {
        "id": "6d300c4f"
      },
      "outputs": [],
      "source": [
        "nopad_result = Conv2D(1, (3, 3), padding='VALID',\n",
        "                      kernel_initializer=kernel_init)(input_img)\n",
        "\n",
        "nopad_result = nopad_result.numpy()"
      ]
    },
    {
      "cell_type": "code",
      "execution_count": 92,
      "id": "4fa5ba29",
      "metadata": {
        "colab": {
          "base_uri": "https://localhost:8080/"
        },
        "id": "4fa5ba29",
        "outputId": "63ea7507-25de-4a86-9c8a-33fe1bc2de19"
      },
      "outputs": [
        {
          "output_type": "stream",
          "name": "stdout",
          "text": [
            "(1, 6, 6, 1)\n",
            "(1, 4, 4, 1)\n",
            "[[1. 1. 2. 1.]\n",
            " [2. 1. 2. 2.]\n",
            " [0. 3. 1. 2.]\n",
            " [0. 0. 2. 0.]]\n"
          ]
        }
      ],
      "source": [
        "print(input_img.shape)\n",
        "print(nopad_result.shape)\n",
        "print(nopad_result.squeeze())"
      ]
    },
    {
      "cell_type": "markdown",
      "id": "b5e2dcd3",
      "metadata": {
        "id": "b5e2dcd3"
      },
      "source": [
        "[(back...)](#Padding)"
      ]
    },
    {
      "cell_type": "markdown",
      "id": "a7cd777c",
      "metadata": {
        "id": "a7cd777c"
      },
      "source": [
        "* ## padding='SAME'\n",
        "![](https://i.imgur.com/vZWnAvN.gif)"
      ]
    },
    {
      "cell_type": "code",
      "source": [
        "pad_result = Conv2D(1, (3, 3), padding='SAME',\n",
        "                  )(input_img)\n",
        "\n",
        "pad_result = pad_result.numpy()\n",
        "print(pad_result.shape)\n",
        "print(pad_result.squeeze())"
      ],
      "metadata": {
        "id": "bnNHUO4Jh_2P",
        "outputId": "bb213bbe-75e7-4008-9b65-1fd3a3022153",
        "colab": {
          "base_uri": "https://localhost:8080/"
        }
      },
      "id": "bnNHUO4Jh_2P",
      "execution_count": 96,
      "outputs": [
        {
          "output_type": "stream",
          "name": "stdout",
          "text": [
            "(1, 6, 6, 1)\n",
            "[[ 0.0000000e+00  0.0000000e+00 -5.9479475e-04  1.6096896e-01\n",
            "   1.7050445e-01  8.9406967e-03]\n",
            " [-5.9479475e-04  1.6096896e-01  4.4518691e-01  4.3058819e-01\n",
            "   5.0185370e-01  3.5488868e-01]\n",
            " [ 2.7527726e-01  2.6008373e-01  5.7629538e-01  7.6901782e-01\n",
            "   5.7367408e-01  8.9709491e-02]\n",
            " [-1.9189489e-01  4.2932266e-01 -1.2632731e-01  6.7165518e-01\n",
            "   7.5103074e-02  8.0768794e-02]\n",
            " [ 0.0000000e+00 -1.9189489e-01  6.2121755e-01 -4.7167280e-01\n",
            "   6.9188827e-01 -2.6517919e-01]\n",
            " [ 0.0000000e+00  0.0000000e+00 -1.9189489e-01  3.4594029e-01\n",
            "  -2.6517919e-01  0.0000000e+00]]\n"
          ]
        }
      ]
    },
    {
      "cell_type": "code",
      "execution_count": 97,
      "id": "f5b6f9e2",
      "metadata": {
        "id": "f5b6f9e2"
      },
      "outputs": [],
      "source": [
        "pad_result = Conv2D(1, (3, 3), padding='SAME',\n",
        "                    kernel_initializer=kernel_init)(input_img)\n",
        "\n",
        "pad_result = pad_result.numpy()"
      ]
    },
    {
      "cell_type": "code",
      "execution_count": 98,
      "id": "bf8b2f88",
      "metadata": {
        "colab": {
          "base_uri": "https://localhost:8080/"
        },
        "id": "bf8b2f88",
        "outputId": "c0eb9c6e-d3ae-4f09-8cc8-3cbd764180cc"
      },
      "outputs": [
        {
          "output_type": "stream",
          "name": "stdout",
          "text": [
            "(1, 6, 6, 1)\n",
            "(1, 6, 6, 1)\n",
            "[[0. 0. 1. 1. 0. 0.]\n",
            " [1. 1. 1. 2. 1. 0.]\n",
            " [0. 2. 1. 2. 2. 1.]\n",
            " [0. 0. 3. 1. 2. 1.]\n",
            " [0. 0. 0. 2. 0. 1.]\n",
            " [0. 0. 0. 0. 1. 0.]]\n"
          ]
        }
      ],
      "source": [
        "print(input_img.shape)\n",
        "print(pad_result.shape)\n",
        "print(pad_result.squeeze())"
      ]
    },
    {
      "cell_type": "markdown",
      "id": "68aed2e9",
      "metadata": {
        "id": "68aed2e9"
      },
      "source": [
        "[(back...)](#Padding)"
      ]
    },
    {
      "cell_type": "markdown",
      "id": "38cd7b04",
      "metadata": {
        "id": "38cd7b04"
      },
      "source": [
        "## ZeroPadding"
      ]
    },
    {
      "cell_type": "code",
      "execution_count": 101,
      "id": "eea96dd0",
      "metadata": {
        "id": "eea96dd0"
      },
      "outputs": [],
      "source": [
        "zero_padding = ZeroPadding2D(padding=(2, 1))(input_img)\n",
        "zero_result = Conv2D(1, (3, 3),\n",
        "                     kernel_initializer=kernel_init)(zero_padding)\n",
        "\n",
        "zero_padding = zero_padding.numpy()\n",
        "zero_result = zero_result.numpy()"
      ]
    },
    {
      "cell_type": "code",
      "execution_count": 102,
      "id": "0ce0d4cc",
      "metadata": {
        "colab": {
          "base_uri": "https://localhost:8080/"
        },
        "id": "0ce0d4cc",
        "outputId": "502107ec-f2e5-4839-fc69-9b3c99ccd212"
      },
      "outputs": [
        {
          "output_type": "stream",
          "name": "stdout",
          "text": [
            "(1, 6, 6, 1)\n",
            "(1, 10, 8, 1)\n",
            "[[0. 0. 0. 0. 0. 0. 0. 0.]\n",
            " [0. 0. 0. 0. 0. 0. 0. 0.]\n",
            " [0. 0. 0. 0. 0. 0. 0. 0.]\n",
            " [0. 0. 0. 0. 1. 1. 0. 0.]\n",
            " [0. 0. 1. 1. 1. 1. 0. 0.]\n",
            " [0. 0. 0. 1. 0. 1. 0. 0.]\n",
            " [0. 0. 0. 0. 1. 0. 0. 0.]\n",
            " [0. 0. 0. 0. 0. 0. 0. 0.]\n",
            " [0. 0. 0. 0. 0. 0. 0. 0.]\n",
            " [0. 0. 0. 0. 0. 0. 0. 0.]]\n"
          ]
        }
      ],
      "source": [
        "print(input_img.shape)\n",
        "print(zero_padding.shape)\n",
        "print(zero_padding.squeeze())"
      ]
    },
    {
      "cell_type": "code",
      "execution_count": 103,
      "id": "1bcec283",
      "metadata": {
        "colab": {
          "base_uri": "https://localhost:8080/"
        },
        "id": "1bcec283",
        "outputId": "46445221-adb9-40d2-c856-0a4eccffc5e0"
      },
      "outputs": [
        {
          "output_type": "stream",
          "name": "stdout",
          "text": [
            "(1, 8, 6, 1)\n",
            "[[0. 0. 0. 0. 0. 0.]\n",
            " [0. 0. 1. 1. 0. 0.]\n",
            " [1. 1. 1. 2. 1. 0.]\n",
            " [0. 2. 1. 2. 2. 1.]\n",
            " [0. 0. 3. 1. 2. 1.]\n",
            " [0. 0. 0. 2. 0. 1.]\n",
            " [0. 0. 0. 0. 1. 0.]\n",
            " [0. 0. 0. 0. 0. 0.]]\n"
          ]
        }
      ],
      "source": [
        "print(zero_result.shape)\n",
        "print(zero_result.squeeze())"
      ]
    },
    {
      "cell_type": "markdown",
      "id": "bb67bcf3",
      "metadata": {
        "id": "bb67bcf3"
      },
      "source": [
        "[(back...)](#Padding)"
      ]
    },
    {
      "cell_type": "markdown",
      "id": "e738bd8a",
      "metadata": {
        "id": "e738bd8a"
      },
      "source": [
        "# Pooling"
      ]
    },
    {
      "cell_type": "markdown",
      "id": "2a65bc0d",
      "metadata": {
        "id": "2a65bc0d"
      },
      "source": [
        "\n",
        "* [Average Pooling](#Average-Pooling)\n",
        "* [Max Pooling](#Max-Pooling)"
      ]
    },
    {
      "cell_type": "markdown",
      "id": "2e8d4d7e",
      "metadata": {
        "id": "2e8d4d7e"
      },
      "source": [
        "![](https://i.imgur.com/XZQtZC3.jpg)"
      ]
    },
    {
      "cell_type": "code",
      "execution_count": 104,
      "id": "aa850e07",
      "metadata": {
        "id": "aa850e07"
      },
      "outputs": [],
      "source": [
        "import numpy as np\n",
        "from tensorflow.keras.layers import AveragePooling2D, MaxPool2D"
      ]
    },
    {
      "cell_type": "code",
      "execution_count": 109,
      "id": "6d7c9588",
      "metadata": {
        "colab": {
          "base_uri": "https://localhost:8080/"
        },
        "id": "6d7c9588",
        "outputId": "64265548-4a88-4d80-c011-99475868a108"
      },
      "outputs": [
        {
          "output_type": "stream",
          "name": "stdout",
          "text": [
            "[[1. 2. 2. 0.]\n",
            " [1. 2. 3. 2.]\n",
            " [3. 1. 3. 2.]\n",
            " [0. 2. 0. 2.]]\n"
          ]
        }
      ],
      "source": [
        "input_img = np.array([[1, 2, 2, 0],\n",
        "            [1, 2, 3, 2],\n",
        "            [3, 1, 3, 2],\n",
        "            [0, 2, 0, 2]], dtype='float32').reshape((1, 4, 4, 1))\n",
        "print(input_img.squeeze())"
      ]
    },
    {
      "cell_type": "markdown",
      "id": "ac25265a",
      "metadata": {
        "id": "ac25265a"
      },
      "source": [
        "* ## Average Pooling"
      ]
    },
    {
      "cell_type": "markdown",
      "id": "df82163b",
      "metadata": {
        "id": "df82163b"
      },
      "source": [
        "![](https://i.imgur.com/sDKe1To.gif)"
      ]
    },
    {
      "cell_type": "code",
      "execution_count": 110,
      "id": "2f802337",
      "metadata": {
        "id": "2f802337"
      },
      "outputs": [],
      "source": [
        "avg_result = AveragePooling2D()(input_img)\n",
        "avg_result = avg_result.numpy()"
      ]
    },
    {
      "cell_type": "code",
      "execution_count": 111,
      "id": "a2844449",
      "metadata": {
        "colab": {
          "base_uri": "https://localhost:8080/"
        },
        "id": "a2844449",
        "outputId": "b1b6ab34-bb23-4bdb-fb71-b59be6de5dc0"
      },
      "outputs": [
        {
          "output_type": "stream",
          "name": "stdout",
          "text": [
            "(1, 4, 4, 1)\n",
            "(1, 2, 2, 1)\n",
            "[[1.5  1.75]\n",
            " [1.5  1.75]]\n"
          ]
        }
      ],
      "source": [
        "print(input_img.shape)\n",
        "print(avg_result.shape)\n",
        "print(avg_result.squeeze())"
      ]
    },
    {
      "cell_type": "markdown",
      "id": "9482529c",
      "metadata": {
        "id": "9482529c"
      },
      "source": [
        "[(back...)](#Pooling)"
      ]
    },
    {
      "cell_type": "markdown",
      "id": "485dd32f",
      "metadata": {
        "id": "485dd32f"
      },
      "source": [
        "* ## Max Pooling"
      ]
    },
    {
      "cell_type": "markdown",
      "id": "47b64082",
      "metadata": {
        "id": "47b64082"
      },
      "source": [
        "![](https://i.imgur.com/HZhzUzN.gif)"
      ]
    },
    {
      "cell_type": "code",
      "execution_count": 112,
      "id": "29e89829",
      "metadata": {
        "id": "29e89829"
      },
      "outputs": [],
      "source": [
        "max_result = MaxPool2D()(input_img)\n",
        "max_result = max_result.numpy()"
      ]
    },
    {
      "cell_type": "code",
      "execution_count": 113,
      "id": "98236dcd",
      "metadata": {
        "colab": {
          "base_uri": "https://localhost:8080/"
        },
        "id": "98236dcd",
        "outputId": "303b7d45-953a-44ab-fc14-6d687f231f77"
      },
      "outputs": [
        {
          "output_type": "stream",
          "name": "stdout",
          "text": [
            "(1, 4, 4, 1)\n",
            "(1, 2, 2, 1)\n",
            "[[2. 3.]\n",
            " [3. 3.]]\n"
          ]
        }
      ],
      "source": [
        "print(input_img.shape)\n",
        "print(max_result.shape)\n",
        "print(max_result.squeeze())"
      ]
    },
    {
      "cell_type": "markdown",
      "id": "ac8ed073",
      "metadata": {
        "id": "ac8ed073"
      },
      "source": [
        "[(back...)](#Pooling)"
      ]
    },
    {
      "cell_type": "markdown",
      "id": "07dc5b9e",
      "metadata": {
        "id": "07dc5b9e"
      },
      "source": [
        "# GlobalPooling\n",
        "\n",
        "* [Global Average Pooling](#Global-Average-Pooling)\n",
        "* [Global Max Pooling](#Global-Max-Pooling)"
      ]
    },
    {
      "cell_type": "code",
      "execution_count": 114,
      "id": "d8607fb7",
      "metadata": {
        "id": "d8607fb7"
      },
      "outputs": [],
      "source": [
        "import numpy as np\n",
        "from tensorflow.keras.layers import (GlobalAveragePooling2D,\n",
        "                                     GlobalMaxPooling2D)"
      ]
    },
    {
      "cell_type": "code",
      "execution_count": 115,
      "id": "c86da18d",
      "metadata": {
        "id": "c86da18d"
      },
      "outputs": [],
      "source": [
        "input_img = np.load(\"./data/globalpooling_input.npy\")[np.newaxis, ...]\n",
        "input_img = input_img.astype('float32')"
      ]
    },
    {
      "cell_type": "markdown",
      "id": "402b7417",
      "metadata": {
        "id": "402b7417"
      },
      "source": [
        "* ## Global Average Pooling"
      ]
    },
    {
      "cell_type": "markdown",
      "id": "b5d801e7",
      "metadata": {
        "id": "b5d801e7"
      },
      "source": [
        "![](https://i.imgur.com/c62Vie8.gif)"
      ]
    },
    {
      "cell_type": "code",
      "execution_count": 120,
      "id": "1ad2608e",
      "metadata": {
        "colab": {
          "base_uri": "https://localhost:8080/"
        },
        "id": "1ad2608e",
        "outputId": "8ad1317b-4558-4a00-b04d-ced7006d1111"
      },
      "outputs": [
        {
          "output_type": "stream",
          "name": "stdout",
          "text": [
            "(1, 4, 4, 8)\n",
            "[[[0. 0. 0. 0.]\n",
            "  [0. 0. 0. 0.]\n",
            "  [0. 0. 0. 0.]\n",
            "  [0. 0. 0. 0.]]]\n"
          ]
        }
      ],
      "source": [
        "print(input_img.shape)\n",
        "print(input_img[..., 4])"
      ]
    },
    {
      "cell_type": "code",
      "execution_count": 117,
      "id": "a4f49a8e",
      "metadata": {
        "id": "a4f49a8e"
      },
      "outputs": [],
      "source": [
        "avg_result = GlobalAveragePooling2D()(input_img)\n",
        "avg_result = avg_result.numpy()"
      ]
    },
    {
      "cell_type": "code",
      "execution_count": 118,
      "id": "817f4c31",
      "metadata": {
        "colab": {
          "base_uri": "https://localhost:8080/"
        },
        "id": "817f4c31",
        "outputId": "c5bd5014-8dca-4a13-e2d7-e535b07d18a4"
      },
      "outputs": [
        {
          "output_type": "stream",
          "name": "stdout",
          "text": [
            "(1, 8)\n",
            "[ 7.5  7.5  3.5  1.5  0.   1.5 -0.5  0.5]\n"
          ]
        }
      ],
      "source": [
        "print(avg_result.shape)\n",
        "print(avg_result.squeeze())"
      ]
    },
    {
      "cell_type": "code",
      "execution_count": 121,
      "id": "f7ebf868",
      "metadata": {
        "colab": {
          "base_uri": "https://localhost:8080/"
        },
        "id": "f7ebf868",
        "outputId": "e324f157-44ca-4eca-8a23-97277b519523"
      },
      "outputs": [
        {
          "output_type": "execute_result",
          "data": {
            "text/plain": [
              "array([[ 7.5,  7.5,  3.5,  1.5,  0. ,  1.5, -0.5,  0.5]], dtype=float32)"
            ]
          },
          "metadata": {},
          "execution_count": 121
        }
      ],
      "source": [
        "input_img.mean((1, 2))"
      ]
    },
    {
      "cell_type": "markdown",
      "id": "4253025e",
      "metadata": {
        "id": "4253025e"
      },
      "source": [
        "[(back...)](#GlobalPooling)"
      ]
    },
    {
      "cell_type": "markdown",
      "id": "918a1119",
      "metadata": {
        "id": "918a1119"
      },
      "source": [
        "* ## Global Max Pooling"
      ]
    },
    {
      "cell_type": "markdown",
      "id": "68986e57",
      "metadata": {
        "id": "68986e57"
      },
      "source": [
        "![](https://i.imgur.com/XFNnWSe.gif)"
      ]
    },
    {
      "cell_type": "code",
      "execution_count": 122,
      "id": "83ef759b",
      "metadata": {
        "id": "83ef759b"
      },
      "outputs": [],
      "source": [
        "max_result = GlobalMaxPooling2D()(input_img)\n",
        "max_result = max_result.numpy()"
      ]
    },
    {
      "cell_type": "code",
      "execution_count": 125,
      "id": "d5759d8f",
      "metadata": {
        "colab": {
          "base_uri": "https://localhost:8080/"
        },
        "id": "d5759d8f",
        "outputId": "b0530111-48ca-40e2-8c38-b770d4c41e31"
      },
      "outputs": [
        {
          "output_type": "stream",
          "name": "stdout",
          "text": [
            "(1, 4, 4, 8)\n",
            "[[[0. 1. 2. 3.]\n",
            "  [4. 5. 6. 7.]\n",
            "  [0. 1. 2. 3.]\n",
            "  [4. 5. 6. 7.]]]\n"
          ]
        }
      ],
      "source": [
        "print(input_img.shape)\n",
        "print(input_img[..., 2])"
      ]
    },
    {
      "cell_type": "code",
      "execution_count": 124,
      "id": "a269f32c",
      "metadata": {
        "colab": {
          "base_uri": "https://localhost:8080/"
        },
        "id": "a269f32c",
        "outputId": "e00af00e-cbfe-4347-b9bd-95362ab72637"
      },
      "outputs": [
        {
          "output_type": "stream",
          "name": "stdout",
          "text": [
            "(1, 8)\n",
            "[15. 15.  7.  3.  0.  3.  0.  2.]\n"
          ]
        }
      ],
      "source": [
        "print(max_result.shape)\n",
        "print(max_result.squeeze())"
      ]
    },
    {
      "cell_type": "markdown",
      "id": "2d083809",
      "metadata": {
        "id": "2d083809"
      },
      "source": [
        "[(back...)](#GlobalPooling)"
      ]
    },
    {
      "cell_type": "code",
      "execution_count": null,
      "id": "c6622454",
      "metadata": {
        "id": "c6622454"
      },
      "outputs": [],
      "source": []
    }
  ],
  "metadata": {
    "kernelspec": {
      "display_name": "Python 3 (ipykernel)",
      "language": "python",
      "name": "python3"
    },
    "language_info": {
      "codemirror_mode": {
        "name": "ipython",
        "version": 3
      },
      "file_extension": ".py",
      "mimetype": "text/x-python",
      "name": "python",
      "nbconvert_exporter": "python",
      "pygments_lexer": "ipython3",
      "version": "3.7.12"
    },
    "colab": {
      "provenance": []
    }
  },
  "nbformat": 4,
  "nbformat_minor": 5
}